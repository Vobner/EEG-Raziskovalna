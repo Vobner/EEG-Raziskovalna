{
 "cells": [
  {
   "cell_type": "code",
   "execution_count": 1,
   "metadata": {},
   "outputs": [],
   "source": [
    "import numpy as np\n",
    "import pandas as pd\n",
    "from sklearn.model_selection import cross_val_score\n",
    "from sklearn.model_selection import cross_val_predict\n",
    "from sklearn.metrics import accuracy_score\n",
    "from sklearn.model_selection import StratifiedKFold\n",
    "\n",
    "from sklearn.naive_bayes import GaussianNB\n",
    "from sklearn.neighbors import KNeighborsClassifier\n",
    "from sklearn.tree import DecisionTreeClassifier\n",
    "from sklearn.neural_network import MLPClassifier"
   ]
  },
  {
   "cell_type": "code",
   "execution_count": 8,
   "metadata": {},
   "outputs": [
    {
     "name": "stdout",
     "output_type": "stream",
     "text": [
      " 0.33 accuracy z standardno deviacijo 0.05\n"
     ]
    }
   ],
   "source": [
    "KNNmodelaccuracies = []\n",
    "n_splits = 10\n",
    "\n",
    "accuracy = []\n",
    "dataset = pd.read_csv(\"csvData/allparticipants.csv\",delimiter=' ',header=None)\n",
    "X = dataset.iloc[:, :-1].values\n",
    "y = dataset.iloc[:, -1].values\n",
    "\n",
    "skf = StratifiedKFold(n_splits=n_splits, random_state=None)\n",
    "skf.get_n_splits(X, y)  \n",
    "\n",
    "for train_index, test_index in skf.split(X, y):\n",
    "    # print(\"TRAIN:\", train_index, \"TEST:\", test_index)\n",
    "    X1_train, X1_test = X[train_index], X[test_index]\n",
    "    y1_train, y1_test = y[train_index], y[test_index]\n",
    "    clf = KNeighborsClassifier(n_neighbors = 10, metric = 'minkowski', p = 2)\n",
    "    clf.fit(X1_train, y1_train)\n",
    "    prediction = clf.predict(X1_test)\n",
    "    score = accuracy_score(prediction,y1_test)\n",
    "    accuracy.append(score)\n",
    "\n",
    "KNNmodelaccuracies.append(accuracy)\n",
    "accuracy = np.array(accuracy)\n",
    "print(\" %0.2f accuracy z standardno deviacijo %0.2f\" % (accuracy.mean(), accuracy.std()))"
   ]
  },
  {
   "cell_type": "code",
   "execution_count": 12,
   "metadata": {},
   "outputs": [
    {
     "name": "stdout",
     "output_type": "stream",
     "text": [
      "[[0.33459033253342474, 0.43057936235858757, 0.3973260198834419, 0.3143640726774083, 0.3620157696263284, 0.2663695577648269, 0.27562564278368185, 0.362701405553651, 0.3004115226337449, 0.3010973936899863]]\n"
     ]
    }
   ],
   "source": [
    "print(KNNmodelaccuracies)"
   ]
  },
  {
   "cell_type": "code",
   "execution_count": 15,
   "metadata": {},
   "outputs": [
    {
     "name": "stdout",
     "output_type": "stream",
     "text": [
      "0.24 accuracy z standardno deviacijo 0.04\n"
     ]
    }
   ],
   "source": [
    "\n",
    "NBmodelaccuracies = []\n",
    "n_splits = 10\n",
    "\n",
    "accuracy = []\n",
    "dataset = pd.read_csv(\"csvData/allparticipants.csv\",delimiter=' ',header=None)\n",
    "X = dataset.iloc[:, :-1].values\n",
    "y = dataset.iloc[:, -1].values\n",
    "\n",
    "skf = StratifiedKFold(n_splits=n_splits, random_state=None)\n",
    "skf.get_n_splits(X, y)  \n",
    "\n",
    "for train_index, test_index in skf.split(X, y):\n",
    "    # print(\"TRAIN:\", train_index, \"TEST:\", test_index)\n",
    "    X1_train, X1_test = X[train_index], X[test_index]\n",
    "    y1_train, y1_test = y[train_index], y[test_index]\n",
    "    clf = GaussianNB()\n",
    "    clf.fit(X1_train, y1_train)\n",
    "    prediction = clf.predict(X1_test)\n",
    "    score = accuracy_score(prediction,y1_test)\n",
    "    accuracy.append(score)\n",
    "\n",
    "NBmodelaccuracies.append(accuracy)\n",
    "accuracy = np.array(accuracy)\n",
    "print(\"%0.2f accuracy z standardno deviacijo %0.2f\" % (accuracy.mean(), accuracy.std())) "
   ]
  },
  {
   "cell_type": "code",
   "execution_count": 16,
   "metadata": {},
   "outputs": [
    {
     "name": "stdout",
     "output_type": "stream",
     "text": [
      "[[0.21871786081590674, 0.23483030510798766, 0.27562564278368185, 0.22797394583476174, 0.241001028453891, 0.3294480630785053, 0.20843332190606786, 0.2379156667809393, 0.1906721536351166, 0.23422496570644719]]\n"
     ]
    }
   ],
   "source": [
    "print(NBmodelaccuracies)"
   ]
  },
  {
   "cell_type": "code",
   "execution_count": 19,
   "metadata": {},
   "outputs": [
    {
     "name": "stdout",
     "output_type": "stream",
     "text": [
      "0.28 accuracy z standardno deviacijo 0.05\n"
     ]
    }
   ],
   "source": [
    "Treemodelaccuracies = []\n",
    "n_splits = 10\n",
    "\n",
    "accuracy = []\n",
    "dataset = pd.read_csv(\"csvData/allparticipants.csv\",delimiter=' ', header=None)\n",
    "X = dataset.iloc[:, :-1].values\n",
    "y = dataset.iloc[:, -1].values\n",
    "\n",
    "skf = StratifiedKFold(n_splits=n_splits, random_state=None)\n",
    "skf.get_n_splits(X, y)\n",
    "\n",
    "for train_index, test_index in skf.split(X, y):\n",
    "    # print(\"TRAIN:\", train_index, \"TEST:\", test_index)\n",
    "    X1_train, X1_test = X[train_index], X[test_index]\n",
    "    y1_train, y1_test = y[train_index], y[test_index]\n",
    "    clf = DecisionTreeClassifier(criterion='entropy', random_state=0)\n",
    "    clf.fit(X1_train, y1_train)\n",
    "    prediction = clf.predict(X1_test)\n",
    "    score = accuracy_score(prediction, y1_test)\n",
    "    accuracy.append(score)\n",
    "\n",
    "Treemodelaccuracies.append(accuracy)\n",
    "accuracy = np.array(accuracy)\n",
    "print(\"%0.2f accuracy z standardno deviacijo %0.2f\" % (accuracy.mean(), accuracy.std()))\n"
   ]
  },
  {
   "cell_type": "code",
   "execution_count": null,
   "metadata": {},
   "outputs": [],
   "source": [
    "print(Treemodelaccuracies)"
   ]
  },
  {
   "cell_type": "code",
   "execution_count": 20,
   "metadata": {},
   "outputs": [
    {
     "name": "stdout",
     "output_type": "stream",
     "text": [
      "0.31 accuracy z standardno deviacijo 0.07\n"
     ]
    }
   ],
   "source": [
    "\n",
    "NNmodelaccuracies = []\n",
    "n_splits = 10\n",
    "\n",
    "accuracy = []\n",
    "dataset = pd.read_csv(\"csvData/allparticipants.csv\",delimiter=' ',header=None)\n",
    "X = dataset.iloc[:, :-1].values\n",
    "y = dataset.iloc[:, -1].values\n",
    "\n",
    "skf = StratifiedKFold(n_splits=n_splits, random_state=None)\n",
    "skf.get_n_splits(X, y)  \n",
    "\n",
    "for train_index, test_index in skf.split(X, y):\n",
    "    # print(\"TRAIN:\", train_index, \"TEST:\", test_index)\n",
    "    X1_train, X1_test = X[train_index], X[test_index]\n",
    "    y1_train, y1_test = y[train_index], y[test_index]\n",
    "    clf = MLPClassifier(activation=\"tanh\",solver=\"adam\",max_iter=1000,hidden_layer_sizes=(100,),random_state=1)\n",
    "    clf.fit(X1_train, y1_train)\n",
    "    prediction = clf.predict(X1_test)\n",
    "    score = accuracy_score(prediction,y1_test)\n",
    "    accuracy.append(score)\n",
    "\n",
    "NNmodelaccuracies.append(accuracy)\n",
    "accuracy = np.array(accuracy)\n",
    "print(\"%0.2f accuracy z standardno deviacijo %0.2f\" % (accuracy.mean(), accuracy.std()))     "
   ]
  },
  {
   "cell_type": "code",
   "execution_count": 21,
   "metadata": {},
   "outputs": [
    {
     "name": "stderr",
     "output_type": "stream",
     "text": [
      "C:\\Users\\lukaj\\AppData\\Local\\Programs\\Python\\Python310\\lib\\site-packages\\sklearn\\neural_network\\_multilayer_perceptron.py:699: UserWarning: Training interrupted by user.\n",
      "  warnings.warn(\"Training interrupted by user.\")\n"
     ]
    }
   ],
   "source": [
    "\n",
    "XGmodelaccuracies = []\n",
    "n_splits = 10\n",
    "\n",
    "accuracy = []\n",
    "dataset = pd.read_csv(\"csvData/allparticipants.csv\",delimiter=' ',header=None)\n",
    "X = dataset.iloc[:, :-1].values\n",
    "y = dataset.iloc[:, -1].values\n",
    "\n",
    "skf = StratifiedKFold(n_splits=n_splits, random_state=None)\n",
    "skf.get_n_splits(X, y)  \n",
    "\n",
    "for train_index, test_index in skf.split(X, y):\n",
    "    # print(\"TRAIN:\", train_index, \"TEST:\", test_index)\n",
    "    X1_train, X1_test = X[train_index], X[test_index]\n",
    "    y1_train, y1_test = y[train_index], y[test_index]\n",
    "    clf = MLPClassifier(activation=\"tanh\",solver=\"adam\",max_iter=1000,hidden_layer_sizes=(100,),random_state=1)\n",
    "    clf.fit(X1_train, y1_train)\n",
    "    prediction = clf.predict(X1_test)\n",
    "    score = accuracy_score(prediction,y1_test)\n",
    "    accuracy.append(score)\n",
    "\n",
    "XGmodelaccuracies.append(accuracy)\n",
    "accuracy = np.array(accuracy)\n",
    "print(\"%0.2f accuracy z standardno deviacijo %0.2f\" % (accuracy.mean(), accuracy.std()))     "
   ]
  }
 ],
 "metadata": {
  "interpreter": {
   "hash": "2d5612326fdb5e13424e37144855c2378186d92746927955c608e46427f4ca19"
  },
  "kernelspec": {
   "display_name": "Python 3.10.1 64-bit",
   "language": "python",
   "name": "python3"
  },
  "language_info": {
   "codemirror_mode": {
    "name": "ipython",
    "version": 3
   },
   "file_extension": ".py",
   "mimetype": "text/x-python",
   "name": "python",
   "nbconvert_exporter": "python",
   "pygments_lexer": "ipython3",
   "version": "3.10.1"
  },
  "orig_nbformat": 4
 },
 "nbformat": 4,
 "nbformat_minor": 2
}
