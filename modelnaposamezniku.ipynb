{
 "cells": [
  {
   "cell_type": "code",
   "execution_count": 2,
   "metadata": {},
   "outputs": [],
   "source": [
    "import numpy as np\n",
    "import pandas as pd\n",
    "from sklearn.model_selection import cross_val_score\n",
    "from sklearn.model_selection import cross_val_predict\n",
    "from sklearn.metrics import accuracy_score\n",
    "from sklearn.model_selection import StratifiedKFold\n",
    "\n",
    "from sklearn.naive_bayes import GaussianNB\n",
    "from sklearn.neighbors import KNeighborsClassifier\n",
    "from sklearn.tree import DecisionTreeClassifier\n",
    "from sklearn.neural_network import MLPClassifier"
   ]
  },
  {
   "cell_type": "code",
   "execution_count": 18,
   "metadata": {},
   "outputs": [
    {
     "name": "stdout",
     "output_type": "stream",
     "text": [
      "Udeleženec1 0.91 accuracy z standardno deviacijo 0.12\n",
      "Udeleženec2 0.91 accuracy z standardno deviacijo 0.09\n",
      "Udeleženec3 0.94 accuracy z standardno deviacijo 0.08\n",
      "Udeleženec4 0.91 accuracy z standardno deviacijo 0.10\n",
      "Udeleženec5 0.84 accuracy z standardno deviacijo 0.15\n",
      "Udeleženec6 0.85 accuracy z standardno deviacijo 0.15\n",
      "Udeleženec7 0.87 accuracy z standardno deviacijo 0.14\n",
      "Udeleženec8 0.91 accuracy z standardno deviacijo 0.11\n",
      "Udeleženec9 0.89 accuracy z standardno deviacijo 0.09\n",
      "Udeleženec10 0.86 accuracy z standardno deviacijo 0.14\n",
      "Udeleženec11 0.91 accuracy z standardno deviacijo 0.11\n",
      "Udeleženec12 0.89 accuracy z standardno deviacijo 0.13\n",
      "Udeleženec13 0.91 accuracy z standardno deviacijo 0.10\n",
      "Udeleženec14 0.83 accuracy z standardno deviacijo 0.16\n",
      "Udeleženec15 0.84 accuracy z standardno deviacijo 0.13\n",
      "Udeleženec16 0.88 accuracy z standardno deviacijo 0.11\n"
     ]
    }
   ],
   "source": [
    "KNNmodelaccuracies = []\n",
    "n_splits = 10\n",
    "\n",
    "for i in range(1,17):\n",
    "    accuracy = []\n",
    "    dataset = pd.read_csv(\"csvData/participant{}.csv\".format(i),delimiter=' ',header=None)\n",
    "    X = dataset.iloc[:, :-1].values\n",
    "    y = dataset.iloc[:, -1].values\n",
    "\n",
    "    skf = StratifiedKFold(n_splits=n_splits, random_state=None)\n",
    "    skf.get_n_splits(X, y)\n",
    "    \n",
    "\n",
    "    for train_index, test_index in skf.split(X, y):\n",
    "       # print(\"TRAIN:\", train_index, \"TEST:\", test_index)\n",
    "        X1_train, X1_test = X[train_index], X[test_index]\n",
    "        y1_train, y1_test = y[train_index], y[test_index]\n",
    "        clf = KNeighborsClassifier(n_neighbors = 10, metric = 'minkowski', p = 2)\n",
    "        clf.fit(X1_train, y1_train)\n",
    "        prediction = clf.predict(X1_test)\n",
    "        score = accuracy_score(prediction,y1_test)\n",
    "        accuracy.append(score)\n",
    "\n",
    "    modelaccuracies.append(accuracy)\n",
    "    accuracy = np.array(accuracy)\n",
    "    print(\"Udeleženec%0.0f %0.2f accuracy z standardno deviacijo %0.2f\" % (i,  accuracy.mean(), accuracy.std()))"
   ]
  },
  {
   "cell_type": "code",
   "execution_count": 4,
   "metadata": {},
   "outputs": [
    {
     "name": "stdout",
     "output_type": "stream",
     "text": [
      "[0.6174863387978142, 1.0, 1.0, 1.0, 1.0, 1.0, 0.9120879120879121, 0.8791208791208791, 0.9010989010989011, 0.8241758241758241]\n",
      "[0.7486338797814208, 0.9234972677595629, 1.0, 1.0, 1.0, 1.0, 0.9340659340659341, 0.8021978021978022, 0.9010989010989011, 0.8241758241758241]\n",
      "[0.7486338797814208, 0.9234972677595629, 1.0, 1.0, 1.0, 0.8681318681318682, 0.9395604395604396, 1.0, 0.9010989010989011, 0.9725274725274725]\n",
      "[0.9016393442622951, 0.9234972677595629, 1.0, 1.0, 1.0, 0.9230769230769231, 0.9395604395604396, 0.7967032967032966, 0.9010989010989011, 0.6648351648351648]\n",
      "[0.5191256830601093, 0.9234972677595629, 1.0, 0.9835164835164835, 1.0, 0.7912087912087912, 0.8516483516483516, 0.6813186813186813, 0.8021978021978022, 0.8241758241758241]\n",
      "[0.5191256830601093, 1.0, 1.0, 0.9395604395604396, 1.0, 0.7912087912087912, 0.9395604395604396, 0.6758241758241759, 0.8021978021978022, 0.8406593406593407]\n",
      "[0.5191256830601093, 0.9234972677595629, 1.0, 0.9615384615384616, 1.0, 0.7912087912087912, 0.9395604395604396, 0.7967032967032966, 0.8021978021978022, 1.0]\n",
      "[1.0, 0.9234972677595629, 1.0, 1.0, 1.0, 0.7912087912087912, 0.9120879120879121, 0.6758241758241759, 1.0, 0.8406593406593407]\n",
      "[0.9016393442622951, 0.9234972677595629, 1.0, 0.9395604395604396, 1.0, 0.8681318681318682, 0.9120879120879121, 0.6758241758241759, 0.9010989010989011, 0.8241758241758241]\n",
      "[0.5573770491803278, 0.9234972677595629, 1.0, 0.9395604395604396, 1.0, 0.7912087912087912, 1.0, 0.7967032967032966, 0.9010989010989011, 0.6648351648351648]\n",
      "[0.7486338797814208, 1.0, 1.0, 1.0, 1.0, 0.9230769230769231, 0.8516483516483516, 0.6758241758241759, 0.9010989010989011, 1.0]\n",
      "[0.5191256830601093, 0.9234972677595629, 1.0, 0.9395604395604396, 1.0, 0.9230769230769231, 0.9395604395604396, 0.8791208791208791, 0.9010989010989011, 0.8406593406593407]\n",
      "[0.6666666666666666, 0.994535519125683, 1.0, 1.0, 1.0, 0.7912087912087912, 0.9395604395604396, 0.8791208791208791, 0.9010989010989011, 0.9010989010989011]\n",
      "[0.5191256830601093, 1.0, 1.0, 0.9395604395604396, 1.0, 0.7912087912087912, 0.8956043956043956, 0.6758241758241759, 0.8021978021978022, 0.6648351648351648]\n",
      "[0.6502732240437158, 0.9234972677595629, 1.0, 0.9395604395604396, 1.0, 0.9230769230769231, 0.8516483516483516, 0.6758241758241759, 0.8021978021978022, 0.6648351648351648]\n",
      "[1.0, 0.9234972677595629, 1.0, 0.9395604395604396, 1.0, 0.7912087912087912, 0.9120879120879121, 0.6758241758241759, 0.8021978021978022, 0.7912087912087912]\n"
     ]
    }
   ],
   "source": [
    "for i in range(len(modelaccuracies)):\n",
    "    print()"
   ]
  },
  {
   "cell_type": "code",
   "execution_count": 7,
   "metadata": {},
   "outputs": [
    {
     "name": "stdout",
     "output_type": "stream",
     "text": [
      "Udeleženec1 0.76 accuracy z standardno deviacijo 0.09\n",
      "Udeleženec2 0.71 accuracy z standardno deviacijo 0.12\n",
      "Udeleženec3 0.68 accuracy z standardno deviacijo 0.16\n",
      "Udeleženec4 0.74 accuracy z standardno deviacijo 0.13\n",
      "Udeleženec5 0.62 accuracy z standardno deviacijo 0.17\n",
      "Udeleženec6 0.33 accuracy z standardno deviacijo 0.14\n",
      "Udeleženec7 0.58 accuracy z standardno deviacijo 0.17\n",
      "Udeleženec8 0.63 accuracy z standardno deviacijo 0.17\n",
      "Udeleženec9 0.79 accuracy z standardno deviacijo 0.18\n",
      "Udeleženec10 0.57 accuracy z standardno deviacijo 0.16\n",
      "Udeleženec11 0.58 accuracy z standardno deviacijo 0.14\n",
      "Udeleženec12 0.44 accuracy z standardno deviacijo 0.11\n",
      "Udeleženec13 0.83 accuracy z standardno deviacijo 0.16\n",
      "Udeleženec14 0.44 accuracy z standardno deviacijo 0.21\n",
      "Udeleženec15 0.65 accuracy z standardno deviacijo 0.11\n",
      "Udeleženec16 0.65 accuracy z standardno deviacijo 0.18\n"
     ]
    }
   ],
   "source": [
    "NBmodelaccuracies = []\n",
    "n_splits = 10\n",
    "\n",
    "for i in range(1,17):\n",
    "    accuracy = []\n",
    "    dataset = pd.read_csv(\"csvData/participant{}.csv\".format(i),delimiter=' ',header=None)\n",
    "    X = dataset.iloc[:, :-1].values\n",
    "    y = dataset.iloc[:, -1].values\n",
    "\n",
    "    skf = StratifiedKFold(n_splits=n_splits, random_state=None)\n",
    "    skf.get_n_splits(X, y)\n",
    "    \n",
    "\n",
    "    for train_index, test_index in skf.split(X, y):\n",
    "       # print(\"TRAIN:\", train_index, \"TEST:\", test_index)\n",
    "        X1_train, X1_test = X[train_index], X[test_index]\n",
    "        y1_train, y1_test = y[train_index], y[test_index]\n",
    "        clf = GaussianNB()\n",
    "        clf.fit(X1_train, y1_train)\n",
    "        prediction = clf.predict(X1_test)\n",
    "        score = accuracy_score(prediction,y1_test)\n",
    "        accuracy.append(score)\n",
    "\n",
    "    NBmodelaccuracies.append(accuracy)\n",
    "    accuracy = np.array(accuracy)\n",
    "    print(\"Udeleženec%0.0f %0.2f accuracy z standardno deviacijo %0.2f\" % (i,  accuracy.mean(), accuracy.std()))"
   ]
  },
  {
   "cell_type": "code",
   "execution_count": 4,
   "metadata": {},
   "outputs": [
    {
     "name": "stdout",
     "output_type": "stream",
     "text": [
      "[[0.5628415300546448, 0.7923497267759563, 0.7540983606557377, 0.8351648351648352, 0.8626373626373627, 0.7362637362637363, 0.7582417582417582, 0.8626373626373627, 0.8021978021978022, 0.6373626373626373], [0.6284153005464481, 0.5792349726775956, 0.6939890710382514, 0.8461538461538461, 0.7527472527472527, 0.5989010989010989, 0.7252747252747253, 0.6428571428571429, 0.978021978021978, 0.6648351648351648], [0.41530054644808745, 0.453551912568306, 0.7540983606557377, 0.9230769230769231, 0.7527472527472527, 0.5659340659340659, 0.8076923076923077, 0.6208791208791209, 0.6703296703296703, 0.8406593406593407], [0.546448087431694, 0.7103825136612022, 0.6174863387978142, 0.6098901098901099, 0.7802197802197802, 0.6703296703296703, 1.0, 0.7967032967032966, 0.7967032967032966, 0.8406593406593407], [0.3442622950819672, 0.40437158469945356, 0.7814207650273224, 0.8461538461538461, 0.5164835164835165, 0.8021978021978022, 0.8131868131868132, 0.6593406593406593, 0.5714285714285714, 0.4945054945054945], [0.2677595628415301, 0.16939890710382513, 0.2185792349726776, 0.3131868131868132, 0.22527472527472528, 0.27472527472527475, 0.43956043956043955, 0.5604395604395604, 0.5934065934065934, 0.25824175824175827], [0.2786885245901639, 0.453551912568306, 0.6885245901639344, 0.8241758241758241, 0.7252747252747253, 0.6593406593406593, 0.7912087912087912, 0.5054945054945055, 0.43956043956043955, 0.46703296703296704], [0.31693989071038253, 0.7431693989071039, 0.6502732240437158, 0.6208791208791209, 0.8681318681318682, 0.4835164835164835, 0.6703296703296703, 0.3901098901098901, 0.6978021978021978, 0.8296703296703297], [0.4808743169398907, 0.9836065573770492, 1.0, 0.945054945054945, 0.6208791208791209, 0.5824175824175825, 0.7857142857142857, 0.8461538461538461, 1.0, 0.6593406593406593], [0.14754098360655737, 0.5901639344262295, 0.8142076502732241, 0.6758241758241759, 0.554945054945055, 0.6318681318681318, 0.5494505494505495, 0.5769230769230769, 0.5824175824175825, 0.5824175824175825], [0.4426229508196721, 0.5956284153005464, 0.6502732240437158, 0.35714285714285715, 0.7032967032967034, 0.4835164835164835, 0.7472527472527473, 0.38461538461538464, 0.7362637362637363, 0.6923076923076923], [0.3333333333333333, 0.22404371584699453, 0.36065573770491804, 0.3791208791208791, 0.5274725274725275, 0.5769230769230769, 0.6043956043956044, 0.489010989010989, 0.4230769230769231, 0.45054945054945056], [0.4808743169398907, 0.8415300546448088, 0.9562841530054644, 0.5769230769230769, 0.8846153846153846, 0.8516483516483516, 1.0, 0.8626373626373627, 0.8021978021978022, 1.0], [0.07103825136612021, 0.24043715846994534, 0.47540983606557374, 0.3131868131868132, 0.27472527472527475, 0.5659340659340659, 0.8571428571428571, 0.46703296703296704, 0.6153846153846154, 0.4945054945054945], [0.5245901639344263, 0.5136612021857924, 0.639344262295082, 0.6263736263736264, 0.7857142857142857, 0.5879120879120879, 0.8681318681318682, 0.6153846153846154, 0.5824175824175825, 0.7582417582417582], [0.2459016393442623, 0.5191256830601093, 0.6830601092896175, 0.7197802197802198, 0.6538461538461539, 0.5439560439560439, 0.9285714285714286, 0.6263736263736264, 0.8021978021978022, 0.8241758241758241]]\n"
     ]
    }
   ],
   "source": [
    "print(NBmodelaccuracies)"
   ]
  },
  {
   "cell_type": "code",
   "execution_count": 8,
   "metadata": {},
   "outputs": [
    {
     "name": "stdout",
     "output_type": "stream",
     "text": [
      "Udeleženec1 0.87 accuracy z standardno deviacijo 0.09\n",
      "Udeleženec2 0.83 accuracy z standardno deviacijo 0.13\n",
      "Udeleženec3 0.81 accuracy z standardno deviacijo 0.12\n",
      "Udeleženec4 0.87 accuracy z standardno deviacijo 0.17\n",
      "Udeleženec5 0.79 accuracy z standardno deviacijo 0.16\n",
      "Udeleženec6 0.84 accuracy z standardno deviacijo 0.13\n",
      "Udeleženec7 0.91 accuracy z standardno deviacijo 0.16\n",
      "Udeleženec8 0.85 accuracy z standardno deviacijo 0.12\n",
      "Udeleženec9 0.89 accuracy z standardno deviacijo 0.10\n",
      "Udeleženec10 0.80 accuracy z standardno deviacijo 0.18\n",
      "Udeleženec11 0.81 accuracy z standardno deviacijo 0.12\n",
      "Udeleženec12 0.84 accuracy z standardno deviacijo 0.16\n",
      "Udeleženec13 0.92 accuracy z standardno deviacijo 0.08\n",
      "Udeleženec14 0.74 accuracy z standardno deviacijo 0.21\n",
      "Udeleženec15 0.85 accuracy z standardno deviacijo 0.19\n",
      "Udeleženec16 0.86 accuracy z standardno deviacijo 0.14\n"
     ]
    }
   ],
   "source": [
    "Treemodelaccuracies = []\n",
    "n_splits = 10\n",
    "\n",
    "for i in range(1,17):\n",
    "    accuracy = []\n",
    "    dataset = pd.read_csv(\"csvData/participant{}.csv\".format(i),delimiter=' ',header=None)\n",
    "    X = dataset.iloc[:, :-1].values\n",
    "    y = dataset.iloc[:, -1].values\n",
    "\n",
    "    skf = StratifiedKFold(n_splits=n_splits, random_state=None)\n",
    "    skf.get_n_splits(X, y)\n",
    "    \n",
    "\n",
    "    for train_index, test_index in skf.split(X, y):\n",
    "       # print(\"TRAIN:\", train_index, \"TEST:\", test_index)\n",
    "        X1_train, X1_test = X[train_index], X[test_index]\n",
    "        y1_train, y1_test = y[train_index], y[test_index]\n",
    "        clf = DecisionTreeClassifier(criterion = 'entropy', random_state = 0)\n",
    "        clf.fit(X1_train, y1_train)\n",
    "        prediction = clf.predict(X1_test)\n",
    "        score = accuracy_score(prediction,y1_test)\n",
    "        accuracy.append(score)\n",
    "\n",
    "    Treemodelaccuracies.append(accuracy)\n",
    "    accuracy = np.array(accuracy)\n",
    "    print(\"Udeleženec%0.0f %0.2f accuracy z standardno deviacijo %0.2f\" % (i,  accuracy.mean(), accuracy.std()))"
   ]
  },
  {
   "cell_type": "code",
   "execution_count": null,
   "metadata": {},
   "outputs": [],
   "source": [
    "print(Treemodelaccuracies)"
   ]
  },
  {
   "cell_type": "code",
   "execution_count": 3,
   "metadata": {},
   "outputs": [
    {
     "name": "stdout",
     "output_type": "stream",
     "text": [
      "Udeleženec1 0.93 accuracy z standardno deviacijo 0.11\n"
     ]
    },
    {
     "name": "stderr",
     "output_type": "stream",
     "text": [
      "C:\\Users\\lukaj\\AppData\\Local\\Programs\\Python\\Python310\\lib\\site-packages\\sklearn\\neural_network\\_multilayer_perceptron.py:699: UserWarning: Training interrupted by user.\n",
      "  warnings.warn(\"Training interrupted by user.\")\n"
     ]
    }
   ],
   "source": [
    "NNmodelaccuracies = []\n",
    "n_splits = 10\n",
    "\n",
    "for i in range(1,17):\n",
    "    accuracy = []\n",
    "    dataset = pd.read_csv(\"csvData/participant{}.csv\".format(i),delimiter=' ',header=None)\n",
    "    X = dataset.iloc[:, :-1].values\n",
    "    y = dataset.iloc[:, -1].values\n",
    "\n",
    "    skf = StratifiedKFold(n_splits=n_splits, random_state=None)\n",
    "    skf.get_n_splits(X, y)\n",
    "\n",
    "    for train_index, test_index in skf.split(X, y):\n",
    "       # print(\"TRAIN:\", train_index, \"TEST:\", test_index)\n",
    "        X1_train, X1_test = X[train_index], X[test_index]\n",
    "        y1_train, y1_test = y[train_index], y[test_index]\n",
    "\n",
    "        clf = MLPClassifier(activation=\"tanh\",solver=\"adam\",max_iter=1000,hidden_layer_sizes=(100,),random_state=1)\n",
    "        clf.fit(X1_train, y1_train)\n",
    "        prediction = clf.predict(X1_test)\n",
    "        score = accuracy_score(prediction,y1_test)\n",
    "        accuracy.append(score)\n",
    "\n",
    "    NNmodelaccuracies.append(accuracy)\n",
    "    accuracy = np.array(accuracy)\n",
    "    print(\"Udeleženec%0.0f %0.2f accuracy z standardno deviacijo %0.2f\" % (i,  accuracy.mean(), accuracy.std()))"
   ]
  }
 ],
 "metadata": {
  "interpreter": {
   "hash": "2d5612326fdb5e13424e37144855c2378186d92746927955c608e46427f4ca19"
  },
  "kernelspec": {
   "display_name": "Python 3.10.1 64-bit",
   "language": "python",
   "name": "python3"
  },
  "language_info": {
   "codemirror_mode": {
    "name": "ipython",
    "version": 3
   },
   "file_extension": ".py",
   "mimetype": "text/x-python",
   "name": "python",
   "nbconvert_exporter": "python",
   "pygments_lexer": "ipython3",
   "version": "3.10.1"
  },
  "orig_nbformat": 4
 },
 "nbformat": 4,
 "nbformat_minor": 2
}
